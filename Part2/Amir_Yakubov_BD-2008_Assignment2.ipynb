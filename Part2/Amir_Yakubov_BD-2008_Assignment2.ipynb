{
 "cells": [
  {
   "cell_type": "code",
   "execution_count": 1,
   "id": "9d2cf0b1",
   "metadata": {},
   "outputs": [],
   "source": [
    "import pandas as pd\n",
    "import numpy as np\n",
    "from scipy.io import loadmat\n",
    "import os\n",
    "import matplotlib.pyplot as plt  \n",
    "import seaborn as sns"
   ]
  },
  {
   "cell_type": "code",
   "execution_count": 2,
   "id": "da4b122f",
   "metadata": {},
   "outputs": [],
   "source": [
    "train = pd.read_csv('train.csv', index_col='Unnamed: 0')\n",
    "y = pd.read_csv('train_answers.csv', index_col='Unnamed: 0')\n",
    "test = pd.read_csv('test.csv', index_col='Unnamed: 0')\n",
    "answers = pd.read_csv('real_answers_for_test.csv', index_col='Unnamed: 0')"
   ]
  },
  {
   "cell_type": "code",
   "execution_count": 3,
   "id": "2347c9c0",
   "metadata": {},
   "outputs": [
    {
     "name": "stdout",
     "output_type": "stream",
     "text": [
      "train shape:  (426, 31)\n",
      "y shape:  (426, 1)\n",
      "test shape:  (143, 31)\n",
      "answer shape:  (143, 1)\n"
     ]
    }
   ],
   "source": [
    "print('train shape: ', train.shape)\n",
    "print('y shape: ', y.shape)\n",
    "print('test shape: ', test.shape)\n",
    "print('answer shape: ', answers.shape)"
   ]
  },
  {
   "cell_type": "markdown",
   "id": "7239934a",
   "metadata": {},
   "source": [
    "I. Calculate the distance to all train set."
   ]
  },
  {
   "cell_type": "code",
   "execution_count": 4,
   "id": "aa735b01",
   "metadata": {
    "scrolled": true
   },
   "outputs": [],
   "source": [
    "distLst = []\n",
    "for m in range(len(test)):\n",
    "    inner_list = []\n",
    "    for i in range(len(train)):\n",
    "        distance = np.linalg.norm(test.iloc[m]-train.iloc[i])\n",
    "        inner_list.append(distance)\n",
    "    distLst.append(inner_list)"
   ]
  },
  {
   "cell_type": "markdown",
   "id": "d5cda550",
   "metadata": {},
   "source": [
    "II. Find the Minimum distance and predict to according it’s label. "
   ]
  },
  {
   "cell_type": "code",
   "execution_count": 5,
   "id": "cf54d530",
   "metadata": {},
   "outputs": [],
   "source": [
    "def forNearestNeighbor(k):\n",
    "    storage = []\n",
    "    for i in range(len(distLst)):\n",
    "        sorted_distLst = sorted(distLst[i])[:k]\n",
    "        indices = [distLst[i].index(inx) for inx in sorted_distLst]\n",
    "        ans_by_inx = [y.iloc[ix][0] for ix in indices]\n",
    "        my_dictionary = {i: ans_by_inx.count(i) for i in ans_by_inx}\n",
    "        result = max(my_dictionary, key=my_dictionary.get)\n",
    "        storage.append(result)\n",
    "    return storage\n",
    "correct_answers = answers[\"diagnosis\"].tolist()"
   ]
  },
  {
   "cell_type": "code",
   "execution_count": 6,
   "id": "93c4875a",
   "metadata": {},
   "outputs": [],
   "source": [
    "def checkAccuracy(k):\n",
    "    accuracy = []\n",
    "    for v in k:\n",
    "        ac=1\n",
    "        for z in range(len(correct_answers)):\n",
    "            if forNearestNeighbor(v)[z]!=correct_answers[z]:\n",
    "                ac-=1/len(correct_answers)\n",
    "        accuracy.append(ac)\n",
    "    return accuracy"
   ]
  },
  {
   "cell_type": "code",
   "execution_count": 7,
   "id": "be68ffee",
   "metadata": {},
   "outputs": [
    {
     "data": {
      "image/png": "[encoded data removed]",
      "text/plain": [
       "<Figure size 432x288 with 1 Axes>"
      ]
     },
     "metadata": {
      "needs_background": "light"
     },
     "output_type": "display_data"
    }
   ],
   "source": [
    "k = [1, 3, 5, 7, 9]\n",
    "accuracy = checkAccuracy(k)\n",
    "plt.plot(k, accuracy)\n",
    "plt.show();"
   ]
  },
  {
   "cell_type": "code",
   "execution_count": 8,
   "id": "2f9231e1",
   "metadata": {},
   "outputs": [],
   "source": [
    "# import matplotlib.pyplot as plt\n",
    "# from sklearn.neighbors import KNeighborsClassifier \n",
    "# neighbors = [1,3,5,7,9]\n",
    "# test_accuracy = np.empty(len(neighbors))\n",
    "# for i, k in enumerate(neighbors):\n",
    "#     knn = KNeighborsClassifier(n_neighbors=k)\n",
    "#     knn.fit(train, y)\n",
    "#     test_accuracy[i] = knn.score(test, answers)\n",
    "# plt.title('k-NN: Varying Number of Neighbors')\n",
    "# plt.plot(neighbors, test_accuracy, label = 'Testing Accuracy')\n",
    "# plt.xlabel('Number of Neighbors')\n",
    "# plt.ylabel('Accuracy')\n",
    "# plt.show();"
   ]
  },
  {
   "cell_type": "markdown",
   "id": "881c9130",
   "metadata": {},
   "source": [
    "### Part 2."
   ]
  },
  {
   "cell_type": "markdown",
   "id": "6a3af362",
   "metadata": {},
   "source": [
    "I. findClosestCentroids function:"
   ]
  },
  {
   "cell_type": "code",
   "execution_count": 9,
   "id": "43d9b455",
   "metadata": {},
   "outputs": [],
   "source": [
    "def findClosestCentroids(X, centroids):  \n",
    "    v = centroids.shape[0]\n",
    "    z = X.shape[0]\n",
    "    idx = np.zeros(z)\n",
    "    for i in range(z):\n",
    "        minimum_distance = 999999\n",
    "        for j in range(v):\n",
    "            distance = np.sum((X[i,:]-centroids[j,:])**2)\n",
    "            if distance<minimum_distance:\n",
    "                minimum_distance = distance\n",
    "                idx[i] = j\n",
    "    return idx"
   ]
  },
  {
   "cell_type": "code",
   "execution_count": 10,
   "id": "7159faa3",
   "metadata": {},
   "outputs": [],
   "source": [
    "data = loadmat('ex7data2.mat')\n",
    "X = data['X']\n",
    "initial_centroids = np.array([[3,3],[6,2],[8,5]])"
   ]
  },
  {
   "cell_type": "code",
   "execution_count": 11,
   "id": "ac3bf97b",
   "metadata": {},
   "outputs": [],
   "source": [
    "idx = findClosestCentroids(X, initial_centroids)"
   ]
  },
  {
   "cell_type": "code",
   "execution_count": 12,
   "id": "c9a039c9",
   "metadata": {},
   "outputs": [
    {
     "name": "stdout",
     "output_type": "stream",
     "text": [
      "Closest centroids for the first 3 examples: \n",
      "[0. 2. 1.]\n",
      "(the closest centroids should be 0, 2, 1 respectively)\n"
     ]
    }
   ],
   "source": [
    "print('Closest centroids for the first 3 examples: ')\n",
    "print(idx[:3])\n",
    "print('(the closest centroids should be 0, 2, 1 respectively)')"
   ]
  },
  {
   "cell_type": "markdown",
   "id": "1511a151",
   "metadata": {},
   "source": [
    "II. computeCentroids function:"
   ]
  },
  {
   "cell_type": "code",
   "execution_count": 13,
   "id": "140814cf",
   "metadata": {},
   "outputs": [],
   "source": [
    "def computeCentroids(X, idx, K):  \n",
    "    m, z = X.shape\n",
    "    centroids = np.zeros((K, z))\n",
    "    for i in range(K):\n",
    "        index = np.where(idx == i)\n",
    "        centroids[i,:] = (np.sum(X[index,:], axis=1)/len(index[0])).ravel()\n",
    "    return centroids"
   ]
  },
  {
   "cell_type": "code",
   "execution_count": 14,
   "id": "317672b5",
   "metadata": {},
   "outputs": [],
   "source": [
    "K = 3"
   ]
  },
  {
   "cell_type": "code",
   "execution_count": 15,
   "id": "d52fc614",
   "metadata": {},
   "outputs": [],
   "source": [
    "centroids = computeCentroids(X, idx, K)"
   ]
  },
  {
   "cell_type": "code",
   "execution_count": 16,
   "id": "23deaff4",
   "metadata": {},
   "outputs": [
    {
     "name": "stdout",
     "output_type": "stream",
     "text": [
      "Centroids computed after initial finding of closest centroids: \n",
      "[[2.42830111 3.15792418]\n",
      " [5.81350331 2.63365645]\n",
      " [7.11938687 3.6166844 ]]\n"
     ]
    }
   ],
   "source": [
    "print('Centroids computed after initial finding of closest centroids: ')\n",
    "print(centroids)"
   ]
  },
  {
   "cell_type": "code",
   "execution_count": 17,
   "id": "cc51bb65",
   "metadata": {},
   "outputs": [],
   "source": [
    "max_iters = 10\n",
    "for i in range(max_iters):\n",
    "    idx = findClosestCentroids(X, centroids)\n",
    "    centroids = computeCentroids(X, idx, K)"
   ]
  },
  {
   "cell_type": "code",
   "execution_count": 22,
   "id": "563a57df",
   "metadata": {},
   "outputs": [
    {
     "data": {
      "image/png": "[encoded data removed]",
      "text/plain": [
       "<Figure size 720x504 with 1 Axes>"
      ]
     },
     "metadata": {
      "needs_background": "light"
     },
     "output_type": "display_data"
    }
   ],
   "source": [
    "mediumaquamarine = X[np.where(idx==0)[0],:]  \n",
    "purple = X[np.where(idx==1)[0],:]  \n",
    "yellow = X[np.where(idx==2)[0],:]\n",
    "fig, ax = plt.subplots(figsize=(10,7))  \n",
    "ax.scatter(mediumaquamarine[:,0], mediumaquamarine[:,1], s=111, color='mediumaquamarine')  \n",
    "ax.scatter(purple[:,0], purple[:,1], s=111, color='purple')  \n",
    "ax.scatter(yellow[:,0], yellow[:,1], s=111, color='yellow');"
   ]
  }
 ],
 "metadata": {
  "kernelspec": {
   "display_name": "Python 3",
   "language": "python",
   "name": "python3"
  },
  "language_info": {
   "codemirror_mode": {
    "name": "ipython",
    "version": 3
   },
   "file_extension": ".py",
   "mimetype": "text/x-python",
   "name": "python",
   "nbconvert_exporter": "python",
   "pygments_lexer": "ipython3",
   "version": "3.8.8"
  }
 },
 "nbformat": 4,
 "nbformat_minor": 5
}
